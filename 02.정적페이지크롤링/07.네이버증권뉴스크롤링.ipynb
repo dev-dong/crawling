{
 "cells": [
  {
   "metadata": {
    "collapsed": true
   },
   "cell_type": "code",
   "source": [
    "# 1단계\n",
    "# 첫번째 뉴스 - 제목, 링크, 내용, 언론사, 날짜\n",
    "\n",
    "import requests\n",
    "from bs4 import BeautifulSoup\n",
    "import pandas as pd\n",
    "\n",
    "result = []\n",
    "wdate = \"2024-05-08\"\n",
    "for i in range(1, 13):\n",
    "    response = requests.get(f\"https://finance.naver.com/news/mainnews.naver?date={wdate}&page={i}\")\n",
    "    html = response.text\n",
    "    soup = BeautifulSoup(html, \"html.parser\")\n",
    "    items = soup.select(\".block1\")\n",
    "    for item in items:\n",
    "        subject = item.select_one(\".articleSubject > a\").text.strip()\n",
    "        link = \"https://finance.naver.com\" + item.select_one(\".articleSubject > a\").attrs[\"href\"]\n",
    "        summary = item.select_one(\".articleSummary\").contents[0].strip()\n",
    "        press = item.select_one(\".articleSummary > .press\").text.strip()\n",
    "        time = item.select_one(\".articleSummary > .wdate\").text\n",
    "        result.append([subject, link, summary, press, time])\n",
    "\n",
    "df = pd.DataFrame(result, columns=[\"제목\", \"링크\", \"내용\", \"언론사\", \"날짜\"])\n",
    "df"
   ],
   "id": "initial_id",
   "outputs": [],
   "execution_count": null
  },
  {
   "metadata": {},
   "cell_type": "code",
   "source": [
    "# 3단계\n",
    "# 1페이지 ~ 마지막페이지 크롤링하기\n",
    "\n",
    "import requests\n",
    "from bs4 import BeautifulSoup\n",
    "import pandas as pd\n",
    "\n",
    "result = []\n",
    "\n",
    "for i in range(1, 1000):\n",
    "    response = requests.get(f\"https://finance.naver.com/news/mainnews.naver?date=2024-05-08&page={i}\")\n",
    "    html = response.text\n",
    "    soup = BeautifulSoup(html, \"html.parser\")\n",
    "    items = soup.select(\".block1\")\n",
    "    for item in items:\n",
    "        subject = item.select_one(\".articleSubject > a\").text.strip()\n",
    "        link = \"https://finance.naver.com\" + item.select_one(\".articleSubject > a\").attrs[\"href\"]\n",
    "        summary = item.select_one(\".articleSummary\").contents[0].strip()\n",
    "        press = item.select_one(\".articleSummary > .press\").text.strip()\n",
    "        time = item.select_one(\".articleSummary > .wdate\").text\n",
    "        result.append([subject, link, summary, press, time])\n",
    "\n",
    "    if soup.select_one(\".pgRR\") == None:\n",
    "        break\n",
    "\n",
    "df = pd.DataFrame(result, columns=[\"제목\", \"링크\", \"내용\", \"언론사\", \"날짜\"])\n",
    "\n",
    "# 엑셀 저장\n",
    "df.to_excel('result.xlsx')\n",
    "\n",
    "df"
   ],
   "id": "4ebfd68f0e50735b",
   "outputs": [],
   "execution_count": null
  }
 ],
 "metadata": {
  "kernelspec": {
   "display_name": "Python 3",
   "language": "python",
   "name": "python3"
  },
  "language_info": {
   "codemirror_mode": {
    "name": "ipython",
    "version": 2
   },
   "file_extension": ".py",
   "mimetype": "text/x-python",
   "name": "python",
   "nbconvert_exporter": "python",
   "pygments_lexer": "ipython2",
   "version": "2.7.6"
  }
 },
 "nbformat": 4,
 "nbformat_minor": 5
}
