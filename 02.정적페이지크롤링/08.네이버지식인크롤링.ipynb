{
 "cells": [
  {
   "cell_type": "code",
   "id": "initial_id",
   "metadata": {
    "collapsed": true
   },
   "source": [
    "# 1단계\n",
    "# 첫번째 글 - 제목, 링크, 날짜, 카테고리, 답변수\n",
    "\n",
    "import requests\n",
    "from bs4 import BeautifulSoup\n",
    "\n",
    "response = requests.get(\"https://kin.naver.com/search/list.naver?query=%EC%82%BC%EC%84%B1%EC%A0%84%EC%9E%90\")\n",
    "html = response.text\n",
    "soup = BeautifulSoup(html, \"html.parser\")\n",
    "\n",
    "# 특수문자는 escape 처리 \\로 처리\n",
    "subject = soup.select_one(\"._nclicks\\\\:kin\\\\.txt._searchListTitleAnchor\").text\n",
    "link = soup.select_one(\"dt > a\").attrs[\"href\"]\n",
    "wdate = soup.select_one(\".txt_inline\").text\n",
    "category = soup.select_one(\".txt_block > a:nth-of-type(2)\").text\n",
    "num = soup.select_one(\".txt_block > span:nth-of-type(2)\").text.split(\" \")[1]"
   ],
   "outputs": [],
   "execution_count": null
  },
  {
   "metadata": {
    "ExecuteTime": {
     "end_time": "2024-10-25T08:21:23.102358Z",
     "start_time": "2024-10-25T08:21:17.775385Z"
    }
   },
   "cell_type": "code",
   "source": [
    "# 3단계\n",
    "# 사용자 입력처리\n",
    "import requests\n",
    "from bs4 import BeautifulSoup\n",
    "\n",
    "search = input(\"검색어 입력\")\n",
    "page = int(input(\"숫자 입력\"))\n",
    "data = []\n",
    "for i in range(1, page):\n",
    "    response = requests.get(\n",
    "        f\"https://kin.naver.com/search/list.naver?query={search}&page={i}\")\n",
    "    html = response.text\n",
    "    soup = BeautifulSoup(html, \"html.parser\")\n",
    "    items = soup.select(\".basic1 > li\")\n",
    "\n",
    "    for item in items:\n",
    "        title = item.select_one(\"._nclicks\\\\:kin\\\\.txt._searchListTitleAnchor\").text\n",
    "        link = item.select_one(\"dt > a\").attrs[\"href\"]\n",
    "        date = item.select_one(\".txt_inline\").text\n",
    "        category = item.select_one(\".txt_block > a:nth-of-type(2)\").text\n",
    "        num = item.select_one(\".txt_block > span:nth-of-type(2)\").text.split(\" \")[1]\n",
    "        data.append([title, link, date, category, num])\n",
    "\n",
    "data"
   ],
   "id": "2a76b3b90a8e7e8c",
   "outputs": [
    {
     "data": {
      "text/plain": [
       "[['다이슨 무선 청소기 로봇도 있나요?',\n",
       "  'https://kin.naver.com/qna/detail.naver?d1id=5&dirId=50104&docId=402130523&qb=7LKt7IaM6riw&enc=utf8§ion=kin.qna_ency&rank=1&search_sort=0&spq=0',\n",
       "  '2024.09.11.',\n",
       "  '청소, 주방, 계절 가전',\n",
       "  '6'],\n",
       " ['LG코드제로 청소기 스팀작동안됨',\n",
       "  'https://kin.naver.com/qna/detail.naver?d1id=8&dirId=80901&docId=476104053&qb=7LKt7IaM6riw&enc=utf8§ion=kin.qna_ency&rank=2&search_sort=0&spq=0',\n",
       "  '2024.10.02.',\n",
       "  '청소, 수리',\n",
       "  '2'],\n",
       " ['가성비 로봇청소기 순위 비교 해서... ',\n",
       "  'https://kin.naver.com/qna/detail.naver?d1id=5&dirId=50503&docId=473603290&qb=7LKt7IaM6riw&enc=utf8§ion=kin.qna_ency&rank=3&search_sort=0&spq=0',\n",
       "  '2024.08.07.',\n",
       "  '청소, 주방, 욕실 용품',\n",
       "  '11'],\n",
       " ['각종청소기등 배터리 리필시... ',\n",
       "  'https://kin.naver.com/qna/detail.naver?d1id=11&dirId=1118&docId=475682501&qb=7LKt7IaM6riw&enc=utf8§ion=kin.qna_ency&rank=4&search_sort=0&spq=0',\n",
       "  '2024.09.25.',\n",
       "  '전기, 전자 공학',\n",
       "  '2'],\n",
       " ['무선 물걸레청소기 추천? 로봇? 고민....',\n",
       "  'https://kin.naver.com/qna/detail.naver?d1id=5&dirId=50104&docId=475539788&qb=7LKt7IaM6riw&enc=utf8§ion=kin.qna_ency&rank=5&search_sort=0&spq=0',\n",
       "  '2024.09.19.',\n",
       "  '청소, 주방, 계절 가전',\n",
       "  '3'],\n",
       " ['진공청소기 추천 해주실 수 있을까요?',\n",
       "  'https://kin.naver.com/qna/detail.naver?d1id=5&dirId=50104&docId=475255188&qb=7LKt7IaM6riw&enc=utf8§ion=kin.qna_ency&rank=6&search_sort=0&spq=0',\n",
       "  '2024.09.12.',\n",
       "  '청소, 주방, 계절 가전',\n",
       "  '5'],\n",
       " ['한꺼번에 할수있는 청소기 있을까요?',\n",
       "  'https://kin.naver.com/qna/detail.naver?d1id=8&dirId=80901&docId=474932688&qb=7LKt7IaM6riw&enc=utf8§ion=kin.qna_ency&rank=7&search_sort=0&spq=0',\n",
       "  '2024.09.06.',\n",
       "  '청소, 수리',\n",
       "  '4'],\n",
       " ['청소기 추천 받아요',\n",
       "  'https://kin.naver.com/qna/detail.naver?d1id=4&dirId=40607&docId=475779607&qb=7LKt7IaM6riw&enc=utf8§ion=kin.qna_ency&rank=8&search_sort=0&spq=0',\n",
       "  '2024.09.25.',\n",
       "  '유통, 판매, 영업',\n",
       "  '2'],\n",
       " ['비스포크 AI스팀 로봇청소기 장 안에... ',\n",
       "  'https://kin.naver.com/qna/detail.naver?d1id=5&dirId=501&docId=475335051&qb=7LKt7IaM6riw&enc=utf8§ion=kin.qna_ency&rank=9&search_sort=0&spq=0',\n",
       "  '2024.09.20.',\n",
       "  '가전제품',\n",
       "  '3'],\n",
       " ['다이슨 청소기 고장',\n",
       "  'https://kin.naver.com/qna/detail.naver?d1id=8&dirId=80901&docId=476185207&qb=7LKt7IaM6riw&enc=utf8§ion=kin.qna_ency&rank=10&search_sort=0&spq=0',\n",
       "  '2024.10.04.',\n",
       "  '청소, 수리',\n",
       "  '1']]"
      ]
     },
     "execution_count": 56,
     "metadata": {},
     "output_type": "execute_result"
    }
   ],
   "execution_count": 56
  },
  {
   "metadata": {},
   "cell_type": "code",
   "source": [
    "# 2단계\n",
    "# 나무태그 찾기\n",
    "import requests\n",
    "from bs4 import BeautifulSoup\n",
    "\n",
    "response = requests.get(\"https://kin.naver.com/search/list.naver?query=%EC%82%BC%EC%84%B1%EC%A0%84%EC%9E%90\")\n",
    "html = response.text\n",
    "soup = BeautifulSoup(html, \"html.parser\")\n",
    "\n",
    "# 나무태그\n",
    "items = soup.select(\".basic1 > li\")\n",
    "\n",
    "data = []\n",
    "for item in items:\n",
    "    title = item.select_one(\"._nclicks\\\\:kin\\\\.txt._searchListTitleAnchor\").text\n",
    "    link = item.select_one(\"dt > a\").attrs[\"href\"]\n",
    "    date = item.select_one(\".txt_inline\").text\n",
    "    category = item.select_one(\".txt_block > a:nth-of-type(2)\").text\n",
    "    num = item.select_one(\".txt_block > span:nth-of-type(2)\").text.split(\" \")[1]\n",
    "    data.append([subject, link, date, category, num])\n",
    "\n",
    "len(data)"
   ],
   "id": "9327bc19c7a5bb68",
   "outputs": [],
   "execution_count": null
  }
 ],
 "metadata": {
  "kernelspec": {
   "display_name": "Python 3",
   "language": "python",
   "name": "python3"
  },
  "language_info": {
   "codemirror_mode": {
    "name": "ipython",
    "version": 2
   },
   "file_extension": ".py",
   "mimetype": "text/x-python",
   "name": "python",
   "nbconvert_exporter": "python",
   "pygments_lexer": "ipython2",
   "version": "2.7.6"
  }
 },
 "nbformat": 4,
 "nbformat_minor": 5
}
