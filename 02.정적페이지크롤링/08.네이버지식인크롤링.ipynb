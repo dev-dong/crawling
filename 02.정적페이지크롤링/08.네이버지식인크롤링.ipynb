{
 "cells": [
  {
   "cell_type": "code",
   "id": "initial_id",
   "metadata": {
    "collapsed": true,
    "ExecuteTime": {
     "end_time": "2024-10-25T07:58:04.432719Z",
     "start_time": "2024-10-25T07:58:04.256851Z"
    }
   },
   "source": [
    "# 1단계\n",
    "# 첫번째 글 - 제목, 링크, 날짜, 카테고리, 답변수\n",
    "\n",
    "import requests\n",
    "from bs4 import BeautifulSoup\n",
    "\n",
    "response = requests.get(\"https://kin.naver.com/search/list.naver?query=%EC%82%BC%EC%84%B1%EC%A0%84%EC%9E%90\")\n",
    "html = response.text\n",
    "soup = BeautifulSoup(html, \"html.parser\")\n",
    "\n",
    "# 특수문자는 escape 처리 \\로 처리\n",
    "subject = soup.select_one(\"._nclicks\\\\:kin\\\\.txt._searchListTitleAnchor\").text\n",
    "link = soup.select_one(\"dt > a\").attrs[\"href\"]\n",
    "wdate = soup.select_one(\".txt_inline\").text\n",
    "category = soup.select_one(\".txt_block > a:nth-of-type(2)\").text\n",
    "num = soup.select_one(\".txt_block > span:nth-of-type(2)\").text.split(\" \")[1]\n",
    "num"
   ],
   "outputs": [
    {
     "data": {
      "text/plain": [
       "'3'"
      ]
     },
     "execution_count": 30,
     "metadata": {},
     "output_type": "execute_result"
    }
   ],
   "execution_count": 30
  }
 ],
 "metadata": {
  "kernelspec": {
   "display_name": "Python 3",
   "language": "python",
   "name": "python3"
  },
  "language_info": {
   "codemirror_mode": {
    "name": "ipython",
    "version": 2
   },
   "file_extension": ".py",
   "mimetype": "text/x-python",
   "name": "python",
   "nbconvert_exporter": "python",
   "pygments_lexer": "ipython2",
   "version": "2.7.6"
  }
 },
 "nbformat": 4,
 "nbformat_minor": 5
}
