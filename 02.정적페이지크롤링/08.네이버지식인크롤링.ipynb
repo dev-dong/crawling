{
 "cells": [
  {
   "cell_type": "code",
   "id": "initial_id",
   "metadata": {
    "collapsed": true
   },
   "source": [
    "# 1단계\n",
    "# 첫번째 글 - 제목, 링크, 날짜, 카테고리, 답변수\n",
    "\n",
    "import requests\n",
    "from bs4 import BeautifulSoup\n",
    "\n",
    "response = requests.get(\"https://kin.naver.com/search/list.naver?query=%EC%82%BC%EC%84%B1%EC%A0%84%EC%9E%90\")\n",
    "html = response.text\n",
    "soup = BeautifulSoup(html, \"html.parser\")\n",
    "\n",
    "# 특수문자는 escape 처리 \\로 처리\n",
    "subject = soup.select_one(\"._nclicks\\\\:kin\\\\.txt._searchListTitleAnchor\").text\n",
    "link = soup.select_one(\"dt > a\").attrs[\"href\"]\n",
    "wdate = soup.select_one(\".txt_inline\").text\n",
    "category = soup.select_one(\".txt_block > a:nth-of-type(2)\").text\n",
    "num = soup.select_one(\".txt_block > span:nth-of-type(2)\").text.split(\" \")[1]"
   ],
   "outputs": [],
   "execution_count": null
  },
  {
   "metadata": {
    "ExecuteTime": {
     "end_time": "2024-10-29T12:14:12.284330Z",
     "start_time": "2024-10-29T12:14:06.675067Z"
    }
   },
   "cell_type": "code",
   "source": [
    "# 3단계\n",
    "# 사용자 입력처리\n",
    "import requests\n",
    "from bs4 import BeautifulSoup\n",
    "import pandas as pd\n",
    "\n",
    "search = input(\"검색어 입력\")\n",
    "page = int(input(\"숫자 입력\"))\n",
    "data = []\n",
    "for i in range(1, page + 1):\n",
    "    response = requests.get(\n",
    "        f\"https://kin.naver.com/search/list.naver?query={search}&page={i}\")\n",
    "    html = response.text\n",
    "    soup = BeautifulSoup(html, \"html.parser\")\n",
    "    items = soup.select(\".basic1 > li\")\n",
    "\n",
    "    for item in items:\n",
    "        title = item.select_one(\"._nclicks\\\\:kin\\\\.txt._searchListTitleAnchor\").text\n",
    "        link = item.select_one(\"dt > a\").attrs[\"href\"]\n",
    "        date = item.select_one(\".txt_inline\").text\n",
    "        category = item.select_one(\".txt_block > a:nth-of-type(2)\").text\n",
    "        num = int(item.select_one(\".txt_block > span:nth-of-type(2)\").text.split(\" \")[1])\n",
    "        data.append([title, link, date, category, num])\n",
    "\n",
    "df = pd.DataFrame(data, columns=[\"제목\", \"링크\", \"날짜\", \"카테고리\", \"답변수\"])\n",
    "\n",
    "# 엑셀 저장\n",
    "df.to_excel('knowledge.xlsx')"
   ],
   "id": "2a76b3b90a8e7e8c",
   "outputs": [],
   "execution_count": 3
  },
  {
   "metadata": {},
   "cell_type": "code",
   "source": [
    "# 2단계\n",
    "# 나무태그 찾기\n",
    "import requests\n",
    "from bs4 import BeautifulSoup\n",
    "\n",
    "response = requests.get(\"https://kin.naver.com/search/list.naver?query=%EC%82%BC%EC%84%B1%EC%A0%84%EC%9E%90\")\n",
    "html = response.text\n",
    "soup = BeautifulSoup(html, \"html.parser\")\n",
    "\n",
    "# 나무태그\n",
    "items = soup.select(\".basic1 > li\")\n",
    "\n",
    "data = []\n",
    "for item in items:\n",
    "    title = item.select_one(\"._nclicks\\\\:kin\\\\.txt._searchListTitleAnchor\").text\n",
    "    link = item.select_one(\"dt > a\").attrs[\"href\"]\n",
    "    date = item.select_one(\".txt_inline\").text\n",
    "    category = item.select_one(\".txt_block > a:nth-of-type(2)\").text\n",
    "    num = item.select_one(\".txt_block > span:nth-of-type(2)\").text.split(\" \")[1]\n",
    "    data.append([subject, link, date, category, num])\n",
    "\n",
    "len(data)"
   ],
   "id": "9327bc19c7a5bb68",
   "outputs": [],
   "execution_count": null
  }
 ],
 "metadata": {
  "kernelspec": {
   "display_name": "Python 3",
   "language": "python",
   "name": "python3"
  },
  "language_info": {
   "codemirror_mode": {
    "name": "ipython",
    "version": 2
   },
   "file_extension": ".py",
   "mimetype": "text/x-python",
   "name": "python",
   "nbconvert_exporter": "python",
   "pygments_lexer": "ipython2",
   "version": "2.7.6"
  }
 },
 "nbformat": 4,
 "nbformat_minor": 5
}
