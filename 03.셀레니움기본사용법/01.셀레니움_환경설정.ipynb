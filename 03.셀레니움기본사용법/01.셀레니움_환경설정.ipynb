{
 "cells": [
  {
   "cell_type": "code",
   "id": "initial_id",
   "metadata": {
    "collapsed": true,
    "ExecuteTime": {
     "end_time": "2024-10-31T13:58:14.125544Z",
     "start_time": "2024-10-31T13:58:11.103464Z"
    }
   },
   "source": "pip install selenium==4.17.2",
   "outputs": [
    {
     "name": "stdout",
     "output_type": "stream",
     "text": [
      "Collecting selenium==4.17.2\r\n",
      "  Downloading selenium-4.17.2-py3-none-any.whl.metadata (6.9 kB)\r\n",
      "Requirement already satisfied: urllib3<3,>=1.26 in /Users/dong/projects/python/crawling-basic/venv/lib/python3.13/site-packages (from urllib3[socks]<3,>=1.26->selenium==4.17.2) (2.2.3)\r\n",
      "Collecting trio~=0.17 (from selenium==4.17.2)\r\n",
      "  Downloading trio-0.27.0-py3-none-any.whl.metadata (8.6 kB)\r\n",
      "Collecting trio-websocket~=0.9 (from selenium==4.17.2)\r\n",
      "  Downloading trio_websocket-0.11.1-py3-none-any.whl.metadata (4.7 kB)\r\n",
      "Requirement already satisfied: certifi>=2021.10.8 in /Users/dong/projects/python/crawling-basic/venv/lib/python3.13/site-packages (from selenium==4.17.2) (2024.8.30)\r\n",
      "Collecting typing_extensions>=4.9.0 (from selenium==4.17.2)\r\n",
      "  Downloading typing_extensions-4.12.2-py3-none-any.whl.metadata (3.0 kB)\r\n",
      "Requirement already satisfied: attrs>=23.2.0 in /Users/dong/projects/python/crawling-basic/venv/lib/python3.13/site-packages (from trio~=0.17->selenium==4.17.2) (24.2.0)\r\n",
      "Collecting sortedcontainers (from trio~=0.17->selenium==4.17.2)\r\n",
      "  Downloading sortedcontainers-2.4.0-py2.py3-none-any.whl.metadata (10 kB)\r\n",
      "Requirement already satisfied: idna in /Users/dong/projects/python/crawling-basic/venv/lib/python3.13/site-packages (from trio~=0.17->selenium==4.17.2) (3.10)\r\n",
      "Collecting outcome (from trio~=0.17->selenium==4.17.2)\r\n",
      "  Downloading outcome-1.3.0.post0-py2.py3-none-any.whl.metadata (2.6 kB)\r\n",
      "Requirement already satisfied: sniffio>=1.3.0 in /Users/dong/projects/python/crawling-basic/venv/lib/python3.13/site-packages (from trio~=0.17->selenium==4.17.2) (1.3.1)\r\n",
      "Collecting wsproto>=0.14 (from trio-websocket~=0.9->selenium==4.17.2)\r\n",
      "  Downloading wsproto-1.2.0-py3-none-any.whl.metadata (5.6 kB)\r\n",
      "Collecting pysocks!=1.5.7,<2.0,>=1.5.6 (from urllib3[socks]<3,>=1.26->selenium==4.17.2)\r\n",
      "  Downloading PySocks-1.7.1-py3-none-any.whl.metadata (13 kB)\r\n",
      "Requirement already satisfied: h11<1,>=0.9.0 in /Users/dong/projects/python/crawling-basic/venv/lib/python3.13/site-packages (from wsproto>=0.14->trio-websocket~=0.9->selenium==4.17.2) (0.14.0)\r\n",
      "Downloading selenium-4.17.2-py3-none-any.whl (9.9 MB)\r\n",
      "\u001B[2K   \u001B[90m━━━━━━━━━━━━━━━━━━━━━━━━━━━━━━━━━━━━━━━━\u001B[0m \u001B[32m9.9/9.9 MB\u001B[0m \u001B[31m11.1 MB/s\u001B[0m eta \u001B[36m0:00:00\u001B[0ma \u001B[36m0:00:01\u001B[0m\r\n",
      "\u001B[?25hDownloading trio-0.27.0-py3-none-any.whl (481 kB)\r\n",
      "Downloading trio_websocket-0.11.1-py3-none-any.whl (17 kB)\r\n",
      "Downloading typing_extensions-4.12.2-py3-none-any.whl (37 kB)\r\n",
      "Downloading PySocks-1.7.1-py3-none-any.whl (16 kB)\r\n",
      "Downloading wsproto-1.2.0-py3-none-any.whl (24 kB)\r\n",
      "Downloading outcome-1.3.0.post0-py2.py3-none-any.whl (10 kB)\r\n",
      "Downloading sortedcontainers-2.4.0-py2.py3-none-any.whl (29 kB)\r\n",
      "Installing collected packages: sortedcontainers, wsproto, typing_extensions, pysocks, outcome, trio, trio-websocket, selenium\r\n",
      "Successfully installed outcome-1.3.0.post0 pysocks-1.7.1 selenium-4.17.2 sortedcontainers-2.4.0 trio-0.27.0 trio-websocket-0.11.1 typing_extensions-4.12.2 wsproto-1.2.0\r\n",
      "\r\n",
      "\u001B[1m[\u001B[0m\u001B[34;49mnotice\u001B[0m\u001B[1;39;49m]\u001B[0m\u001B[39;49m A new release of pip is available: \u001B[0m\u001B[31;49m24.2\u001B[0m\u001B[39;49m -> \u001B[0m\u001B[32;49m24.3.1\u001B[0m\r\n",
      "\u001B[1m[\u001B[0m\u001B[34;49mnotice\u001B[0m\u001B[1;39;49m]\u001B[0m\u001B[39;49m To update, run: \u001B[0m\u001B[32;49mpip install --upgrade pip\u001B[0m\r\n",
      "Note: you may need to restart the kernel to use updated packages.\n"
     ]
    }
   ],
   "execution_count": 1
  },
  {
   "metadata": {
    "ExecuteTime": {
     "end_time": "2024-10-31T13:58:24.368415Z",
     "start_time": "2024-10-31T13:58:20.909189Z"
    }
   },
   "cell_type": "code",
   "source": [
    "from selenium import webdriver\n",
    "\n",
    "# 크롬 드라이버 생성\n",
    "driver = webdriver.Chrome()"
   ],
   "id": "3276273f695480b5",
   "outputs": [],
   "execution_count": 2
  }
 ],
 "metadata": {
  "kernelspec": {
   "display_name": "Python 3",
   "language": "python",
   "name": "python3"
  },
  "language_info": {
   "codemirror_mode": {
    "name": "ipython",
    "version": 2
   },
   "file_extension": ".py",
   "mimetype": "text/x-python",
   "name": "python",
   "nbconvert_exporter": "python",
   "pygments_lexer": "ipython2",
   "version": "2.7.6"
  }
 },
 "nbformat": 4,
 "nbformat_minor": 5
}
