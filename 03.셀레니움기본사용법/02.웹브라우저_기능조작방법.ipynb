{
 "cells": [
  {
   "metadata": {
    "ExecuteTime": {
     "end_time": "2024-10-31T14:32:51.064062Z",
     "start_time": "2024-10-31T14:32:47.828792Z"
    }
   },
   "cell_type": "code",
   "source": [
    "from selenium import webdriver\n",
    "\n",
    "# 크롬 드라이버 생성\n",
    "driver = webdriver.Chrome()\n",
    "\n",
    "# 원하는 페이지로 이동\n",
    "driver.get(\"https://www.naver.com\")\n",
    "\n",
    "# 뒤로가기\n",
    "driver.back()\n",
    "\n",
    "# 앞으로가기\n",
    "driver.forward()\n",
    "\n",
    "# 새로고침\n",
    "driver.refresh()\n",
    "\n",
    "# 현재 URL 확인\n",
    "driver.current_url\n",
    "\n",
    "# 페이지 제목 확인\n",
    "driver.title\n",
    "\n",
    "# 최대화\n",
    "driver.maximize_window()\n",
    "\n",
    "# 최소화\n",
    "driver.minimize_window()\n",
    "\n",
    "# 현재 창 닫기\n",
    "driver.close()\n",
    "\n",
    "# 모든 창을 닫고, 웹 드라이버 세션 종료\n",
    "driver.quit()"
   ],
   "id": "6d6ed20d787601e3",
   "outputs": [],
   "execution_count": 7
  }
 ],
 "metadata": {
  "kernelspec": {
   "display_name": "Python 3",
   "language": "python",
   "name": "python3"
  },
  "language_info": {
   "codemirror_mode": {
    "name": "ipython",
    "version": 2
   },
   "file_extension": ".py",
   "mimetype": "text/x-python",
   "name": "python",
   "nbconvert_exporter": "python",
   "pygments_lexer": "ipython2",
   "version": "2.7.6"
  }
 },
 "nbformat": 4,
 "nbformat_minor": 5
}
