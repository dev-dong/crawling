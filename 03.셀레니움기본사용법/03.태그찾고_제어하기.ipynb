{
 "cells": [
  {
   "cell_type": "code",
   "id": "initial_id",
   "metadata": {
    "collapsed": true,
    "ExecuteTime": {
     "end_time": "2024-11-01T13:37:01.843288Z",
     "start_time": "2024-11-01T13:37:01.129662Z"
    }
   },
   "source": [
    "from selenium import webdriver\n",
    "\n",
    "# 크롬 드라이버 생성\n",
    "driver = webdriver.Chrome()"
   ],
   "outputs": [],
   "execution_count": 4
  },
  {
   "metadata": {
    "ExecuteTime": {
     "end_time": "2024-11-01T13:37:05.320949Z",
     "start_time": "2024-11-01T13:37:04.876611Z"
    }
   },
   "cell_type": "code",
   "source": [
    "# 페이지 이동\n",
    "driver.get('https://www.naver.com')"
   ],
   "id": "62dd03dc805c1a7f",
   "outputs": [],
   "execution_count": 5
  },
  {
   "metadata": {
    "ExecuteTime": {
     "end_time": "2024-11-01T13:37:38.638504Z",
     "start_time": "2024-11-01T13:37:38.626230Z"
    }
   },
   "cell_type": "code",
   "source": [
    "from selenium.webdriver.common.by import By\n",
    "\n",
    "# 태그 찾기\n",
    "search = driver.find_element(By.CSS_SELECTOR, \"#query\")"
   ],
   "id": "3b7b4a86a12ee729",
   "outputs": [],
   "execution_count": 8
  },
  {
   "metadata": {
    "ExecuteTime": {
     "end_time": "2024-11-01T13:37:39.854729Z",
     "start_time": "2024-11-01T13:37:39.811868Z"
    }
   },
   "cell_type": "code",
   "source": [
    "# 1. 클릭\n",
    "search.click()"
   ],
   "id": "ff94783037708e7e",
   "outputs": [],
   "execution_count": 9
  },
  {
   "metadata": {
    "ExecuteTime": {
     "end_time": "2024-11-01T13:38:01.423219Z",
     "start_time": "2024-11-01T13:38:01.395064Z"
    }
   },
   "cell_type": "code",
   "source": [
    "# 2. 문자 입력\n",
    "search.send_keys('스타트 코딩')"
   ],
   "id": "288653f42efc6b8d",
   "outputs": [],
   "execution_count": 11
  },
  {
   "metadata": {
    "ExecuteTime": {
     "end_time": "2024-11-01T13:38:37.067576Z",
     "start_time": "2024-11-01T13:38:36.946506Z"
    }
   },
   "cell_type": "code",
   "source": [
    "from selenium.webdriver.common.keys import Keys\n",
    "\n",
    "# 3. 키 입력\n",
    "search.send_keys(Keys.ENTER)"
   ],
   "id": "f37c4eae7c6136f6",
   "outputs": [],
   "execution_count": 12
  },
  {
   "metadata": {
    "ExecuteTime": {
     "end_time": "2024-11-01T13:40:04.443742Z",
     "start_time": "2024-11-01T13:40:02.049318Z"
    }
   },
   "cell_type": "code",
   "source": [
    "# 셀레니움 기본 템블릿\n",
    "from selenium import webdriver\n",
    "from selenium.webdriver.common.by import By\n",
    "from selenium.webdriver.common.keys import Keys\n",
    "\n",
    "# 크롬 드라이버 생성\n",
    "driver = webdriver.Chrome()\n",
    "\n",
    "# 페이지 이동\n",
    "driver.get('https://www.naver.com')\n",
    "\n",
    "# 태그 찾기\n",
    "search = driver.find_element(By.CSS_SELECTOR, \"#query\")\n",
    "\n",
    "# 1. 클릭\n",
    "search.click()\n",
    "\n",
    "# 2. 문자 입력\n",
    "search.send_keys('스타트 코딩')\n",
    "\n",
    "# 3. 키 입력\n",
    "search.send_keys(Keys.ENTER)"
   ],
   "id": "dd6800b0552922ff",
   "outputs": [],
   "execution_count": 13
  }
 ],
 "metadata": {
  "kernelspec": {
   "display_name": "Python 3",
   "language": "python",
   "name": "python3"
  },
  "language_info": {
   "codemirror_mode": {
    "name": "ipython",
    "version": 2
   },
   "file_extension": ".py",
   "mimetype": "text/x-python",
   "name": "python",
   "nbconvert_exporter": "python",
   "pygments_lexer": "ipython2",
   "version": "2.7.6"
  }
 },
 "nbformat": 4,
 "nbformat_minor": 5
}
